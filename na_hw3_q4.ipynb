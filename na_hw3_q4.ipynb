{
  "nbformat": 4,
  "nbformat_minor": 0,
  "metadata": {
    "colab": {
      "provenance": [],
      "collapsed_sections": []
    },
    "kernelspec": {
      "name": "python3",
      "display_name": "Python 3"
    },
    "language_info": {
      "name": "python"
    }
  },
  "cells": [
    {
      "cell_type": "code",
      "execution_count": 1,
      "metadata": {
        "id": "m6uCZYtaRTU1"
      },
      "outputs": [],
      "source": [
        "import numpy as np\n",
        "from numpy import linalg as LA\n",
        "from numpy.linalg import inv\n",
        "from numpy.linalg import det"
      ]
    },
    {
      "cell_type": "code",
      "source": [
        "def norm(x):\n",
        "  return LA.norm(x,2)\n",
        "\n",
        "def is_pos_def(x):\n",
        "    return np.all(LA.eigvals(x) > 0)\n",
        "  \n",
        "def f1(x):\n",
        "  return -13 + x[0] + ((5 - x[1]) * x[1] - 2) * x[1]\n",
        "\n",
        "def f2(x):\n",
        "  return -29 + x[0] + ((x[1] + 1) * x[1] - 14) * x[1]\n",
        "\n",
        "def f(x):\n",
        "  return f1(x)*f1(x) + f2(x)*f2(x)\n",
        "\n",
        "def gradf1(x):\n",
        "  g1f1 = 1\n",
        "  g2f1 = -3*pow(x[1],2) + 10*x[1] - 2\n",
        "  return np.array([g1f1, g2f1], dtype=np.float64)\n",
        "\n",
        "def gradf2(x):\n",
        "  g1f2 = 1\n",
        "  g2f2 = 3*pow(x[1],2) + 2*x[1] - 14\n",
        "  return np.array([g1f2, g2f2], dtype=np.float64)\n",
        "\n",
        "def gradf(x):\n",
        "  return 2*f1(x)*gradf1(x) + 2*f2(x)*gradf2(x)\n",
        "\n",
        "def h(x):\n",
        "  h1 = 4\n",
        "  h2 = 24*x[1] - 32\n",
        "  h3 = h2\n",
        "  h4 = 60*pow(x[1],4) - 160*pow(x[1],3) + 24*pow(x[1],2) - 480*x[1] + 24*x[0] + 24\n",
        "  return np.array([[h1, h2], [h3,h4]], dtype=np.float64)\n",
        "\n",
        "def J(x):\n",
        "  return np.array([[gradf1(x)[0], gradf1(x)[1]], [gradf2(x)[0], gradf2(x)[1]]], dtype=np.float64)\n",
        "\n",
        "def F(x):\n",
        "  return np.array([f1(x), f2(x)], dtype=np.float64)"
      ],
      "metadata": {
        "id": "CsAhchtoRagW"
      },
      "execution_count": 2,
      "outputs": []
    },
    {
      "cell_type": "code",
      "source": [
        "def backtracking(x,alpha,beta,s,epsilon):\n",
        "  iter = 0\n",
        "  while(norm(gradf(x)) > epsilon):\n",
        "    iter = iter + 1\n",
        "    t = s\n",
        "    v1 = f(x) - f(x - t*gradf(x))\n",
        "    v2 = alpha * t * norm(gradf(x))**2\n",
        "    while(v1 < v2):\n",
        "      t = beta * t\n",
        "      v1 = f(x) - f(x - t*gradf(x))\n",
        "      v2 = alpha * t * norm(gradf(x))**2\n",
        "    x = x - t * gradf(x)\n",
        "  print(\"The method converged\")\n",
        "  return iter, x, f(x)"
      ],
      "metadata": {
        "id": "YG4JQeChRfYS"
      },
      "execution_count": 3,
      "outputs": []
    },
    {
      "cell_type": "code",
      "source": [
        "def newton_hybrid(x,alpha,beta,s,epsilon):\n",
        "  iter = 0\n",
        "  d = -gradf(x)\n",
        "\n",
        "  if is_pos_def(h(x)):\n",
        "    d = LA.solve(h(x), -gradf(x))\n",
        "  \n",
        "  while(norm(gradf(x)) > epsilon):\n",
        "    d = -gradf(x)\n",
        "\n",
        "    if is_pos_def(h(x)):\n",
        "      d = LA.solve(h(x), -gradf(x))\n",
        "\n",
        "    iter = iter + 1\n",
        "    t = s\n",
        "    v1 = f(x) - f(x + t*d)\n",
        "    v2 = -alpha * t * (gradf(x).T @ d)\n",
        "    while(v1 < v2):\n",
        "      t = beta * t\n",
        "      v1 = f(x) - f(x + t*d)\n",
        "      v2 = -alpha * t * (gradf(x).T @ d)\n",
        "    x = x + t * d\n",
        "  print(\"The method converged\")\n",
        "  return iter, x, f(x)"
      ],
      "metadata": {
        "id": "-Y03tE84Rimp"
      },
      "execution_count": 4,
      "outputs": []
    },
    {
      "cell_type": "code",
      "source": [
        "def damped_gauss_newton(x,alpha,beta,s,epsilon):\n",
        "  iter = 0\n",
        "  \n",
        "  while(norm(gradf(x)) > epsilon):\n",
        "\n",
        "    if(LA.det(J(x).T @ J(x)) == 0):\n",
        "      print(\"J(x_k)^T * J(x_k) is singular\")\n",
        "      print(\"The method did not converge\")\n",
        "      print(\"The current values of number of iterations, x and f(x) are:\")\n",
        "      return iter, x, f(x)\n",
        "      \n",
        "    temp = inv(J(x).T @ J(x))\n",
        "    d = (-temp @ J(x).T) @ F(x)\n",
        "    iter = iter + 1\n",
        "    t = s\n",
        "    v1 = f(x) - f(x + t*d)\n",
        "    v2 = -alpha * t * (gradf(x).T @ d)\n",
        "\n",
        "    while(v1 < v2):\n",
        "      t = beta * t\n",
        "      v1 = f(x) - f(x + t*d)\n",
        "      v2 = -alpha * t * (gradf(x).T @ d)\n",
        "    \n",
        "    x = x + t * d\n",
        "  print(\"The method converged\")\n",
        "  return iter, x, f(x)"
      ],
      "metadata": {
        "id": "MFXGV_SBRmKF"
      },
      "execution_count": 5,
      "outputs": []
    },
    {
      "cell_type": "code",
      "source": [
        "epsilon = 1e-5\n",
        "s = 1\n",
        "alpha = 0.5\n",
        "beta = 0.5\n",
        "x1 = np.array([-50,7], dtype=np.float64)\n",
        "x2 = np.array([20,7], dtype=np.float64)\n",
        "x3 = np.array([20,-18], dtype=np.float64)\n",
        "x4 = np.array([5,-10], dtype=np.float64)"
      ],
      "metadata": {
        "id": "y4wtotRoRsJd"
      },
      "execution_count": 6,
      "outputs": []
    },
    {
      "cell_type": "markdown",
      "source": [
        "### For the gradient method with backtracking"
      ],
      "metadata": {
        "id": "WG42LS7ER49i"
      }
    },
    {
      "cell_type": "code",
      "source": [
        "print(\"For x0 =\", x1)\n",
        "iterb1, xb1, fb1 = backtracking(x1,alpha,beta,s,epsilon)\n",
        "print(\"Number of iterations:\", iterb1,\", x:\", xb1, \", f(x):\",fb1,\"\\n\")\n",
        "\n",
        "print(\"For x0 =\", x2)\n",
        "iterb2, xb2, fb2 = backtracking(x2,alpha,beta,s,epsilon)\n",
        "print(\"Number of iterations:\", iterb2,\", x:\", xb2, \", f(x):\",fb2,\"\\n\")\n",
        "\n",
        "print(\"For x0 =\", x3)\n",
        "iterb3, xb3, fb3 = backtracking(x3,alpha,beta,s,epsilon)\n",
        "print(\"Number of iterations:\", iterb3,\", x:\", xb3, \", f(x):\",fb3,\"\\n\")\n",
        "\n",
        "print(\"For x0 =\", x4)\n",
        "iterb4, xb4, fb4 = backtracking(x4,alpha,beta,s,epsilon)\n",
        "print(\"Number of iterations:\", iterb4,\", x:\", xb4, \", f(x):\",fb4,\"\\n\")"
      ],
      "metadata": {
        "colab": {
          "base_uri": "https://localhost:8080/"
        },
        "id": "fhG6EcdGSEjz",
        "outputId": "285bdc7a-5c25-4031-bb63-783bbbe74383"
      },
      "execution_count": 7,
      "outputs": [
        {
          "output_type": "stream",
          "name": "stdout",
          "text": [
            "For x0 = [-50.   7.]\n",
            "The method converged\n",
            "Number of iterations: 2252 , x: [4.99999659 4.00000006] , f(x): 1.6909807165885658e-11 \n",
            "\n",
            "For x0 = [20.  7.]\n",
            "The method converged\n",
            "Number of iterations: 2447 , x: [5.00000334 3.99999994] , f(x): 1.6225287498306366e-11 \n",
            "\n",
            "For x0 = [ 20. -18.]\n",
            "The method converged\n",
            "Number of iterations: 2472 , x: [11.41279066 -0.89680456] , f(x): 48.98425367929612 \n",
            "\n",
            "For x0 = [  5. -10.]\n",
            "The method converged\n",
            "Number of iterations: 2123 , x: [5.00000332 3.99999994] , f(x): 1.5976729507672273e-11 \n",
            "\n"
          ]
        }
      ]
    },
    {
      "cell_type": "markdown",
      "source": [
        "### For the hybrid Newton’s method"
      ],
      "metadata": {
        "id": "SEgLwW6OSqT2"
      }
    },
    {
      "cell_type": "code",
      "source": [
        "print(\"For x0 =\", x1)\n",
        "iterb1, xb1, fb1 = newton_hybrid(x1,alpha,beta,s,epsilon)\n",
        "print(\"Number of iterations:\", iterb1,\", x:\", xb1, \", f(x):\",fb1,\"\\n\")\n",
        "\n",
        "print(\"For x0 =\", x2)\n",
        "iterb2, xb2, fb2 = newton_hybrid(x2,alpha,beta,s,epsilon)\n",
        "print(\"Number of iterations:\", iterb2,\", x:\", xb2, \", f(x):\",fb2,\"\\n\")\n",
        "\n",
        "print(\"For x0 =\", x3)\n",
        "iterb3, xb3, fb3 = newton_hybrid(x3,alpha,beta,s,epsilon)\n",
        "print(\"Number of iterations:\", iterb3,\", x:\", xb3, \", f(x):\",fb3,\"\\n\")\n",
        "\n",
        "print(\"For x0 =\", x4)\n",
        "iterb4, xb4, fb4 = newton_hybrid(x4,alpha,beta,s,epsilon)\n",
        "print(\"Number of iterations:\", iterb4,\", x:\", xb4, \", f(x):\",fb4,\"\\n\")"
      ],
      "metadata": {
        "colab": {
          "base_uri": "https://localhost:8080/"
        },
        "id": "iRyljIELSOTX",
        "outputId": "6ed867b8-b199-491f-9bc5-d3a67aa5bb60"
      },
      "execution_count": 8,
      "outputs": [
        {
          "output_type": "stream",
          "name": "stdout",
          "text": [
            "For x0 = [-50.   7.]\n",
            "The method converged\n",
            "Number of iterations: 8 , x: [5. 4.] , f(x): 3.2153437889479672e-21 \n",
            "\n",
            "For x0 = [20.  7.]\n",
            "The method converged\n",
            "Number of iterations: 8 , x: [5. 4.] , f(x): 7.573184445518013e-21 \n",
            "\n",
            "For x0 = [ 20. -18.]\n",
            "The method converged\n",
            "Number of iterations: 16 , x: [11.41277899 -0.89680525] , f(x): 48.98425367924001 \n",
            "\n",
            "For x0 = [  5. -10.]\n",
            "The method converged\n",
            "Number of iterations: 13 , x: [11.41277899 -0.89680525] , f(x): 48.98425367924001 \n",
            "\n"
          ]
        }
      ]
    },
    {
      "cell_type": "markdown",
      "source": [
        "### For the damped Gauss-Newton’s method with a backtracking line search strategy"
      ],
      "metadata": {
        "id": "JlThutwRTJvl"
      }
    },
    {
      "cell_type": "code",
      "source": [
        "print(\"For x0 =\", x1)\n",
        "iterb1, xb1, fb1 = damped_gauss_newton(x1,alpha,beta,s,epsilon)\n",
        "print(\"Number of iterations:\", iterb1,\", x:\", xb1, \", f(x):\",fb1,\"\\n\")\n",
        "\n",
        "print(\"For x0 =\", x2)\n",
        "iterb2, xb2, fb2 = damped_gauss_newton(x2,alpha,beta,s,epsilon)\n",
        "print(\"Number of iterations:\", iterb2,\", x:\", xb2, \", f(x):\",fb2,\"\\n\")\n",
        "\n",
        "print(\"For x0 =\", x3)\n",
        "iterb3, xb3, fb3 = damped_gauss_newton(x3,alpha,beta,s,epsilon)\n",
        "print(\"Number of iterations:\", iterb3,\", x:\", xb3, \", f(x):\",fb3,\"\\n\")\n",
        "\n",
        "print(\"For x0 =\", x4)\n",
        "iterb4, xb4, fb4 = damped_gauss_newton(x4,alpha,beta,s,epsilon)\n",
        "print(\"Number of iterations:\", iterb4,\", x:\", xb4, \", f(x):\",fb4,\"\\n\")"
      ],
      "metadata": {
        "colab": {
          "base_uri": "https://localhost:8080/"
        },
        "id": "WvIi7YVXSvCp",
        "outputId": "1c9e9a00-4f4d-48ab-8e19-cbec0d19fb7a"
      },
      "execution_count": 9,
      "outputs": [
        {
          "output_type": "stream",
          "name": "stdout",
          "text": [
            "For x0 = [-50.   7.]\n",
            "The method converged\n",
            "Number of iterations: 30 , x: [5. 4.] , f(x): 0.0 \n",
            "\n",
            "For x0 = [20.  7.]\n",
            "The method converged\n",
            "Number of iterations: 29 , x: [5. 4.] , f(x): 1.1233379290347208e-27 \n",
            "\n",
            "For x0 = [ 20. -18.]\n",
            "J(x_k)^T * J(x_k) is singular\n",
            "The method did not converge\n",
            "The current values of number of iterations, x and f(x) are:\n",
            "Number of iterations: 28 , x: [12.8788636  -0.89680526] , f(x): 53.28306277109294 \n",
            "\n",
            "For x0 = [  5. -10.]\n",
            "J(x_k)^T * J(x_k) is singular\n",
            "The method did not converge\n",
            "The current values of number of iterations, x and f(x) are:\n",
            "Number of iterations: 26 , x: [13.00946764 -0.89680526] , f(x): 54.08308373751153 \n",
            "\n"
          ]
        }
      ]
    },
    {
      "cell_type": "code",
      "source": [],
      "metadata": {
        "id": "hzOziuD7TZKC"
      },
      "execution_count": 9,
      "outputs": []
    }
  ]
}