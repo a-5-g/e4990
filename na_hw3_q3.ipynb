{
  "nbformat": 4,
  "nbformat_minor": 0,
  "metadata": {
    "colab": {
      "provenance": [],
      "collapsed_sections": []
    },
    "kernelspec": {
      "name": "python3",
      "display_name": "Python 3"
    },
    "language_info": {
      "name": "python"
    }
  },
  "cells": [
    {
      "cell_type": "code",
      "execution_count": 1,
      "metadata": {
        "id": "akioBZvHVKvw"
      },
      "outputs": [],
      "source": [
        "import numpy as np\n",
        "from numpy import linalg as LA"
      ]
    },
    {
      "cell_type": "code",
      "source": [
        "# Norm\n",
        "def norm(x):\n",
        "  return LA.norm(x,2)\n",
        "\n",
        "# Gradient\n",
        "def grad(x, A):\n",
        "  return 2* (A@x)\n",
        "\n",
        "# f(x)\n",
        "def func(x, A):\n",
        "  return x.T @ A @ x"
      ],
      "metadata": {
        "id": "w_380QREZ4lX"
      },
      "execution_count": 2,
      "outputs": []
    },
    {
      "cell_type": "code",
      "source": [
        "def backtracking(x,A,alpha,beta,s,epsilon):\n",
        "  iter = 0\n",
        "  while(norm(grad(x,A)) > epsilon):\n",
        "    iter = iter + 1\n",
        "    t = s\n",
        "    v1 = func(x,A) - func(x - t*grad(x,A), A)\n",
        "    v2 = alpha * t * norm(grad(x,A))**2\n",
        "    while(v1 < v2):\n",
        "      t = beta * t\n",
        "      v1 = func(x,A) - func(x - t*grad(x,A), A)\n",
        "      v2 = alpha * t * norm(grad(x,A))**2\n",
        "    x = x - t * grad(x,A)\n",
        "  #print(iter, norm(grad(x,A)), func(x,A))\n",
        "  return iter"
      ],
      "metadata": {
        "id": "0FgzpIDaw953"
      },
      "execution_count": 3,
      "outputs": []
    },
    {
      "cell_type": "code",
      "source": [
        "def scaled_line(x,A,D,epsilon):\n",
        "  iter = 0\n",
        "  while(norm(grad(x,A)) > epsilon):\n",
        "    iter = iter + 1\n",
        "    num = grad(x,A).T @ D @ grad(x,A)\n",
        "    den = 2 * (grad(x,A).T @ D.T) @ A @ (D @ grad(x,A))\n",
        "    t = num/den\n",
        "    x = x - t * (D @ grad(x,A))\n",
        "    #print(iter, norm(grad(x,A)), func(x,A))\n",
        "  return iter"
      ],
      "metadata": {
        "id": "VxdtfnV951YM"
      },
      "execution_count": 4,
      "outputs": []
    },
    {
      "cell_type": "code",
      "source": [
        "def scaled_backtracking(x,A,alpha,beta,s,epsilon,D):\n",
        "  iter = 0\n",
        "  while(norm(grad(x,A)) > epsilon):\n",
        "    iter = iter + 1\n",
        "    t = s\n",
        "    v1 = func(x,A) - func(x - t * (D @ grad(x,A)), A)\n",
        "    v2 = alpha * t * (grad(x,A).T @ D @ grad(x,A))\n",
        "    \n",
        "    while(v1 < v2):\n",
        "      t = beta * t\n",
        "      v1 = func(x,A) - func(x - t * (D @ grad(x,A)), A)\n",
        "      v2 = alpha * t * (grad(x,A).T @ D @ grad(x,A))\n",
        "    x = x - t * (D @ grad(x,A))\n",
        "  #print(iter, norm(grad(x,A)), func(x,A))\n",
        "  return iter"
      ],
      "metadata": {
        "id": "ZAOTkMXHY9VL"
      },
      "execution_count": 5,
      "outputs": []
    },
    {
      "cell_type": "code",
      "source": [
        "s = 1\n",
        "t = s\n",
        "beta = 0.5\n",
        "epsilon = 1e-4\n",
        "x = np.array([1,2,3,4,5])\n",
        "A = np.empty([5,5])\n",
        "for i in range(0, 5):\n",
        "  for j in range(0,5):\n",
        "    A[i][j] = 1/(i+j+1)"
      ],
      "metadata": {
        "id": "T5cxXa4yVRtA"
      },
      "execution_count": 6,
      "outputs": []
    },
    {
      "cell_type": "markdown",
      "source": [
        "### For part i)"
      ],
      "metadata": {
        "id": "BUG2wE62wrCE"
      }
    },
    {
      "cell_type": "code",
      "source": [
        "alpha = 0.5\n",
        "iter = backtracking(x, A, alpha, beta, s, epsilon)\n",
        "print(\"Number of iterations required is:\", iter)"
      ],
      "metadata": {
        "colab": {
          "base_uri": "https://localhost:8080/"
        },
        "id": "ccySL-sHxNDY",
        "outputId": "933aed20-e9ea-4385-e100-91dfa2fff576"
      },
      "execution_count": 7,
      "outputs": [
        {
          "output_type": "stream",
          "name": "stdout",
          "text": [
            "Number of iterations required is: 3301\n"
          ]
        }
      ]
    },
    {
      "cell_type": "markdown",
      "source": [
        "### For part ii)"
      ],
      "metadata": {
        "id": "WYRpLJYAyBtd"
      }
    },
    {
      "cell_type": "code",
      "source": [
        "alpha = 0.1\n",
        "iter = backtracking(x, A, alpha, beta, s, epsilon)\n",
        "print(\"Number of iterations required is:\", iter)"
      ],
      "metadata": {
        "colab": {
          "base_uri": "https://localhost:8080/"
        },
        "id": "55DTz0s9ZvI7",
        "outputId": "b3c45536-ad7d-4d78-c975-1070a2c312b5"
      },
      "execution_count": 8,
      "outputs": [
        {
          "output_type": "stream",
          "name": "stdout",
          "text": [
            "Number of iterations required is: 3732\n"
          ]
        }
      ]
    },
    {
      "cell_type": "markdown",
      "source": [
        "### For part iii)"
      ],
      "metadata": {
        "id": "KH1Rv6X06UPL"
      }
    },
    {
      "cell_type": "code",
      "source": [
        "D = np.zeros([5,5])\n",
        "for i in range(0,5):\n",
        "  D[i][i] = i+i+1"
      ],
      "metadata": {
        "id": "F2krinqW6RDT"
      },
      "execution_count": 9,
      "outputs": []
    },
    {
      "cell_type": "code",
      "source": [
        "iter = scaled_line(x,A,D,epsilon)\n",
        "print(\"Number of iterations required is:\", iter)"
      ],
      "metadata": {
        "colab": {
          "base_uri": "https://localhost:8080/"
        },
        "id": "oOZmVxnBy6Up",
        "outputId": "2f21700f-bc18-4468-a07d-274aa9ff27e6"
      },
      "execution_count": 10,
      "outputs": [
        {
          "output_type": "stream",
          "name": "stdout",
          "text": [
            "Number of iterations required is: 235\n"
          ]
        }
      ]
    },
    {
      "cell_type": "markdown",
      "source": [
        "### For part iv)"
      ],
      "metadata": {
        "id": "o7A19i4aZS68"
      }
    },
    {
      "cell_type": "code",
      "source": [
        "alpha = 0.1\n",
        "iter = scaled_backtracking(x, A, alpha, beta, s, epsilon,D)\n",
        "print(\"Number of iterations required is:\", iter)"
      ],
      "metadata": {
        "colab": {
          "base_uri": "https://localhost:8080/"
        },
        "id": "DQGbbkrdZUlW",
        "outputId": "23703c27-78b5-4cbc-ef80-709daa6c1024"
      },
      "execution_count": 11,
      "outputs": [
        {
          "output_type": "stream",
          "name": "stdout",
          "text": [
            "Number of iterations required is: 104\n"
          ]
        }
      ]
    },
    {
      "cell_type": "code",
      "source": [],
      "metadata": {
        "id": "EzXu9IahZbqV"
      },
      "execution_count": 11,
      "outputs": []
    }
  ]
}