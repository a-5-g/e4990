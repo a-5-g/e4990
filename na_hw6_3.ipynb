{
  "nbformat": 4,
  "nbformat_minor": 0,
  "metadata": {
    "colab": {
      "provenance": []
    },
    "kernelspec": {
      "name": "python3",
      "display_name": "Python 3"
    },
    "language_info": {
      "name": "python"
    }
  },
  "cells": [
    {
      "cell_type": "code",
      "execution_count": 24,
      "metadata": {
        "colab": {
          "base_uri": "https://localhost:8080/"
        },
        "id": "ej0QJ4Iv5RZp",
        "outputId": "55ceb769-6460-452f-b1b6-06124613a08a"
      },
      "outputs": [
        {
          "output_type": "stream",
          "name": "stdout",
          "text": [
            "x1 = -0.519395835511108, x2 = 0.10744940882127835, x3 = -0.8477514910657244\n",
            "mu = 1.7187779847336013, lambda = 2.617250465651847\n",
            "The optimal solution is: -1.796944961861946\n"
          ]
        }
      ],
      "source": [
        "import numpy as np\n",
        "from scipy.optimize import fsolve\n",
        "\n",
        "def eqs (p):\n",
        "  x1,x2,x3, mu, l = p\n",
        "  eq1 = 1 + mu + 2*l*x1\n",
        "  eq2 = -4 + 2*mu + 2*l*x2\n",
        "  eq3 = 1 + 2*mu + 2*l*x3\n",
        "  eq4 = x1+ 2*x2 + 2*x3 + 2\n",
        "  eq5 = x1**2 + x2**2 + x3**2 - 1\n",
        "  return [eq1, eq2, eq3, eq4, eq5]\n",
        "\n",
        "x1, x2, x3, mu, l = fsolve(eqs, (1,1,1,1,1))\n",
        "def f(x1,x2,x3):\n",
        "  return x1 - 4*x2 + x3\n",
        "\n",
        "ans = f(x1,x2,x3)\n",
        "\n",
        "print(f\"x1 = {x1}, x2 = {x2}, x3 = {x3}\")\n",
        "print(f\"mu = {mu}, lambda = {l}\")\n",
        "print(f\"The optimal solution is: {ans}\")"
      ]
    },
    {
      "cell_type": "code",
      "source": [],
      "metadata": {
        "id": "ErVZOSnG_b6b"
      },
      "execution_count": null,
      "outputs": []
    }
  ]
}