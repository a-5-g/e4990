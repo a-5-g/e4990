{
  "nbformat": 4,
  "nbformat_minor": 0,
  "metadata": {
    "colab": {
      "provenance": []
    },
    "kernelspec": {
      "name": "python3",
      "display_name": "Python 3"
    },
    "language_info": {
      "name": "python"
    }
  },
  "cells": [
    {
      "cell_type": "code",
      "execution_count": 9,
      "metadata": {
        "id": "RKpTlRkjoqEC"
      },
      "outputs": [],
      "source": [
        "import numpy as np\n",
        "from numpy import linalg as LA"
      ]
    },
    {
      "cell_type": "code",
      "source": [
        "def f(x):\n",
        "  return 2*pow(x[0],2) + 3*pow(x[1],2) + 4*pow(x[2],2) + 2*x[0]*x[1] - 2*x[0]*x[2] - 8*x[0] - 4*x[1] - 2*x[2]\n",
        "\n",
        "def grad(x):\n",
        "  g1 = 4*x[0] + 2*x[1] - 2*x[2] - 8\n",
        "  g2 = 6*x[1] + 2*x[0] - 4\n",
        "  g3 = 8*x[2] - 2*x[0] - 2\n",
        "  return np.array([g1, g2, g3], dtype = np.float64)\n",
        "\n",
        "A = np.array([[4, 2, -2], [2, 6, 0], [-2, 0, 8]])\n",
        "B = np.matmul(A.T, A)\n",
        "e, v = LA.eigh(B)\n",
        "k = np.amax(e)\n",
        "L = np.sqrt(k)\n",
        "tk = 1/L"
      ],
      "metadata": {
        "id": "wCa2HJQ3ov51"
      },
      "execution_count": 10,
      "outputs": []
    },
    {
      "cell_type": "code",
      "source": [
        "def gradproj(x0):\n",
        "  iter = 0\n",
        "  xk = x0\n",
        "  xk1 = x0\n",
        "  for iter in range(1,101):\n",
        "    temp = xk - tk * grad(xk)\n",
        "    for j in range(0,3):\n",
        "      temp[j] = max(0, temp[j])\n",
        "    xk1 = temp\n",
        "    xk = xk1\n",
        "    print(f\"Value of the function at iteration number {iter} is: {f(xk)}\")\n",
        "  return xk1"
      ],
      "metadata": {
        "id": "W79MvE7NjVMZ"
      },
      "execution_count": 11,
      "outputs": []
    },
    {
      "cell_type": "code",
      "source": [
        "x0 = np.zeros(3)\n",
        "ans = gradproj(x0)\n",
        "print(f\"The value of the function after 100 iterations is: {f(ans)}\")\n",
        "print(\"The produced solution is: \", ans)"
      ],
      "metadata": {
        "colab": {
          "base_uri": "https://localhost:8080/"
        },
        "id": "uhZv1pNmk_5h",
        "outputId": "1008d698-9821-496b-9d0f-a723e4df1756"
      },
      "execution_count": 12,
      "outputs": [
        {
          "output_type": "stream",
          "name": "stdout",
          "text": [
            "Value of the function at iteration number 1 is: -6.540839693532424\n",
            "Value of the function at iteration number 2 is: -8.431854579101552\n",
            "Value of the function at iteration number 3 is: -9.399508851454303\n",
            "Value of the function at iteration number 4 is: -9.940699984424791\n",
            "Value of the function at iteration number 5 is: -10.246861563843485\n",
            "Value of the function at iteration number 6 is: -10.420303871265679\n",
            "Value of the function at iteration number 7 is: -10.508450222162724\n",
            "Value of the function at iteration number 8 is: -10.544822426519454\n",
            "Value of the function at iteration number 9 is: -10.560184088224965\n",
            "Value of the function at iteration number 10 is: -10.56667634292181\n",
            "Value of the function at iteration number 11 is: -10.569420148685275\n",
            "Value of the function at iteration number 12 is: -10.570579756623044\n",
            "Value of the function at iteration number 13 is: -10.571069838897541\n",
            "Value of the function at iteration number 14 is: -10.571276961173918\n",
            "Value of the function at iteration number 15 is: -10.571364496756416\n",
            "Value of the function at iteration number 16 is: -10.571401491706155\n",
            "Value of the function at iteration number 17 is: -10.571417126791536\n",
            "Value of the function at iteration number 18 is: -10.571423734609532\n",
            "Value of the function at iteration number 19 is: -10.571426527255536\n",
            "Value of the function at iteration number 20 is: -10.571427707504709\n",
            "Value of the function at iteration number 21 is: -10.571428206310534\n",
            "Value of the function at iteration number 22 is: -10.571428417119627\n",
            "Value of the function at iteration number 23 is: -10.571428506213358\n",
            "Value of the function at iteration number 24 is: -10.571428543866823\n",
            "Value of the function at iteration number 25 is: -10.571428559780218\n",
            "Value of the function at iteration number 26 is: -10.571428566505656\n",
            "Value of the function at iteration number 27 is: -10.571428569348011\n",
            "Value of the function at iteration number 28 is: -10.571428570549271\n",
            "Value of the function at iteration number 29 is: -10.571428571056956\n",
            "Value of the function at iteration number 30 is: -10.571428571271515\n",
            "Value of the function at iteration number 31 is: -10.571428571362196\n",
            "Value of the function at iteration number 32 is: -10.571428571400519\n",
            "Value of the function at iteration number 33 is: -10.571428571416714\n",
            "Value of the function at iteration number 34 is: -10.571428571423562\n",
            "Value of the function at iteration number 35 is: -10.571428571426454\n",
            "Value of the function at iteration number 36 is: -10.571428571427674\n",
            "Value of the function at iteration number 37 is: -10.571428571428193\n",
            "Value of the function at iteration number 38 is: -10.571428571428413\n",
            "Value of the function at iteration number 39 is: -10.571428571428504\n",
            "Value of the function at iteration number 40 is: -10.571428571428545\n",
            "Value of the function at iteration number 41 is: -10.571428571428559\n",
            "Value of the function at iteration number 42 is: -10.571428571428566\n",
            "Value of the function at iteration number 43 is: -10.57142857142857\n",
            "Value of the function at iteration number 44 is: -10.57142857142857\n",
            "Value of the function at iteration number 45 is: -10.571428571428571\n",
            "Value of the function at iteration number 46 is: -10.571428571428571\n",
            "Value of the function at iteration number 47 is: -10.571428571428573\n",
            "Value of the function at iteration number 48 is: -10.571428571428571\n",
            "Value of the function at iteration number 49 is: -10.571428571428571\n",
            "Value of the function at iteration number 50 is: -10.571428571428573\n",
            "Value of the function at iteration number 51 is: -10.571428571428571\n",
            "Value of the function at iteration number 52 is: -10.571428571428571\n",
            "Value of the function at iteration number 53 is: -10.571428571428571\n",
            "Value of the function at iteration number 54 is: -10.57142857142857\n",
            "Value of the function at iteration number 55 is: -10.571428571428571\n",
            "Value of the function at iteration number 56 is: -10.57142857142857\n",
            "Value of the function at iteration number 57 is: -10.571428571428573\n",
            "Value of the function at iteration number 58 is: -10.571428571428571\n",
            "Value of the function at iteration number 59 is: -10.571428571428571\n",
            "Value of the function at iteration number 60 is: -10.571428571428571\n",
            "Value of the function at iteration number 61 is: -10.571428571428571\n",
            "Value of the function at iteration number 62 is: -10.571428571428573\n",
            "Value of the function at iteration number 63 is: -10.571428571428573\n",
            "Value of the function at iteration number 64 is: -10.571428571428571\n",
            "Value of the function at iteration number 65 is: -10.571428571428571\n",
            "Value of the function at iteration number 66 is: -10.571428571428573\n",
            "Value of the function at iteration number 67 is: -10.571428571428571\n",
            "Value of the function at iteration number 68 is: -10.571428571428571\n",
            "Value of the function at iteration number 69 is: -10.571428571428573\n",
            "Value of the function at iteration number 70 is: -10.571428571428573\n",
            "Value of the function at iteration number 71 is: -10.571428571428571\n",
            "Value of the function at iteration number 72 is: -10.571428571428573\n",
            "Value of the function at iteration number 73 is: -10.57142857142857\n",
            "Value of the function at iteration number 74 is: -10.571428571428571\n",
            "Value of the function at iteration number 75 is: -10.571428571428571\n",
            "Value of the function at iteration number 76 is: -10.571428571428573\n",
            "Value of the function at iteration number 77 is: -10.57142857142857\n",
            "Value of the function at iteration number 78 is: -10.571428571428571\n",
            "Value of the function at iteration number 79 is: -10.571428571428573\n",
            "Value of the function at iteration number 80 is: -10.571428571428573\n",
            "Value of the function at iteration number 81 is: -10.57142857142857\n",
            "Value of the function at iteration number 82 is: -10.571428571428571\n",
            "Value of the function at iteration number 83 is: -10.571428571428571\n",
            "Value of the function at iteration number 84 is: -10.571428571428571\n",
            "Value of the function at iteration number 85 is: -10.571428571428571\n",
            "Value of the function at iteration number 86 is: -10.571428571428571\n",
            "Value of the function at iteration number 87 is: -10.571428571428571\n",
            "Value of the function at iteration number 88 is: -10.571428571428571\n",
            "Value of the function at iteration number 89 is: -10.571428571428571\n",
            "Value of the function at iteration number 90 is: -10.571428571428571\n",
            "Value of the function at iteration number 91 is: -10.571428571428571\n",
            "Value of the function at iteration number 92 is: -10.571428571428571\n",
            "Value of the function at iteration number 93 is: -10.571428571428571\n",
            "Value of the function at iteration number 94 is: -10.571428571428571\n",
            "Value of the function at iteration number 95 is: -10.571428571428571\n",
            "Value of the function at iteration number 96 is: -10.571428571428571\n",
            "Value of the function at iteration number 97 is: -10.571428571428571\n",
            "Value of the function at iteration number 98 is: -10.571428571428571\n",
            "Value of the function at iteration number 99 is: -10.571428571428571\n",
            "Value of the function at iteration number 100 is: -10.571428571428571\n",
            "The value of the function after 100 iterations is: -10.571428571428571\n",
            "The produced solution is:  [2.42857143 0.         0.85714286]\n"
          ]
        }
      ]
    },
    {
      "cell_type": "code",
      "source": [
        " "
      ],
      "metadata": {
        "id": "QsdV-B5wlT24"
      },
      "execution_count": null,
      "outputs": []
    },
    {
      "cell_type": "code",
      "source": [],
      "metadata": {
        "id": "9EVy2jX7ok3o"
      },
      "execution_count": null,
      "outputs": []
    }
  ]
}